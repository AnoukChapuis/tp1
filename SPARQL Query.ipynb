{
 "cells": [
  {
   "cell_type": "code",
   "execution_count": 1,
   "metadata": {},
   "outputs": [],
   "source": [
    "from datetime import datetime as dt\n",
    "from SPARQLWrapper import SPARQLWrapper, JSON"
   ]
  },
  {
   "cell_type": "code",
   "execution_count": 2,
   "metadata": {},
   "outputs": [
    {
     "name": "stdout",
     "output_type": "stream",
     "text": [
      "\n",
      "35 Belgian Division 1 Football Clubs found\n",
      "\n",
      "[{'item': {'type': 'uri', 'value': 'http://www.wikidata.org/entity/Q113000'}, 'itemLabel': {'type': 'literal', 'value': 'Q113000'}}, {'item': {'type': 'uri', 'value': 'http://www.wikidata.org/entity/Q138248'}, 'itemLabel': {'type': 'literal', 'value': 'Q138248'}}, {'item': {'type': 'uri', 'value': 'http://www.wikidata.org/entity/Q187528'}, 'itemLabel': {'type': 'literal', 'value': 'Q187528'}}, {'item': {'type': 'uri', 'value': 'http://www.wikidata.org/entity/Q190561'}, 'itemLabel': {'type': 'literal', 'value': 'Q190561'}}, {'item': {'type': 'uri', 'value': 'http://www.wikidata.org/entity/Q190916'}, 'itemLabel': {'type': 'literal', 'value': 'Q190916'}}, {'item': {'type': 'uri', 'value': 'http://www.wikidata.org/entity/Q196160'}, 'itemLabel': {'type': 'literal', 'value': 'Q196160'}}, {'item': {'type': 'uri', 'value': 'http://www.wikidata.org/entity/Q216032'}, 'itemLabel': {'type': 'literal', 'value': 'Q216032'}}, {'item': {'type': 'uri', 'value': 'http://www.wikidata.org/entity/Q221940'}, 'itemLabel': {'type': 'literal', 'value': 'Q221940'}}, {'item': {'type': 'uri', 'value': 'http://www.wikidata.org/entity/Q364698'}, 'itemLabel': {'type': 'literal', 'value': 'Q364698'}}, {'item': {'type': 'uri', 'value': 'http://www.wikidata.org/entity/Q370206'}, 'itemLabel': {'type': 'literal', 'value': 'Q370206'}}, {'item': {'type': 'uri', 'value': 'http://www.wikidata.org/entity/Q376635'}, 'itemLabel': {'type': 'literal', 'value': 'Q376635'}}, {'item': {'type': 'uri', 'value': 'http://www.wikidata.org/entity/Q490586'}, 'itemLabel': {'type': 'literal', 'value': 'Q490586'}}, {'item': {'type': 'uri', 'value': 'http://www.wikidata.org/entity/Q509170'}, 'itemLabel': {'type': 'literal', 'value': 'Q509170'}}, {'item': {'type': 'uri', 'value': 'http://www.wikidata.org/entity/Q578104'}, 'itemLabel': {'type': 'literal', 'value': 'Q578104'}}, {'item': {'type': 'uri', 'value': 'http://www.wikidata.org/entity/Q618620'}, 'itemLabel': {'type': 'literal', 'value': 'Q618620'}}, {'item': {'type': 'uri', 'value': 'http://www.wikidata.org/entity/Q646079'}, 'itemLabel': {'type': 'literal', 'value': 'Q646079'}}, {'item': {'type': 'uri', 'value': 'http://www.wikidata.org/entity/Q732002'}, 'itemLabel': {'type': 'literal', 'value': 'Q732002'}}, {'item': {'type': 'uri', 'value': 'http://www.wikidata.org/entity/Q849544'}, 'itemLabel': {'type': 'literal', 'value': 'Q849544'}}, {'item': {'type': 'uri', 'value': 'http://www.wikidata.org/entity/Q865735'}, 'itemLabel': {'type': 'literal', 'value': 'Q865735'}}, {'item': {'type': 'uri', 'value': 'http://www.wikidata.org/entity/Q916199'}, 'itemLabel': {'type': 'literal', 'value': 'Q916199'}}, {'item': {'type': 'uri', 'value': 'http://www.wikidata.org/entity/Q925973'}, 'itemLabel': {'type': 'literal', 'value': 'Q925973'}}, {'item': {'type': 'uri', 'value': 'http://www.wikidata.org/entity/Q961309'}, 'itemLabel': {'type': 'literal', 'value': 'Q961309'}}, {'item': {'type': 'uri', 'value': 'http://www.wikidata.org/entity/Q967104'}, 'itemLabel': {'type': 'literal', 'value': 'Q967104'}}, {'item': {'type': 'uri', 'value': 'http://www.wikidata.org/entity/Q1423718'}, 'itemLabel': {'type': 'literal', 'value': 'Q1423718'}}, {'item': {'type': 'uri', 'value': 'http://www.wikidata.org/entity/Q1669847'}, 'itemLabel': {'type': 'literal', 'value': 'Q1669847'}}, {'item': {'type': 'uri', 'value': 'http://www.wikidata.org/entity/Q1901250'}, 'itemLabel': {'type': 'literal', 'value': 'Q1901250'}}, {'item': {'type': 'uri', 'value': 'http://www.wikidata.org/entity/Q2195773'}, 'itemLabel': {'type': 'literal', 'value': 'Q2195773'}}, {'item': {'type': 'uri', 'value': 'http://www.wikidata.org/entity/Q2268833'}, 'itemLabel': {'type': 'literal', 'value': 'Q2268833'}}, {'item': {'type': 'uri', 'value': 'http://www.wikidata.org/entity/Q2272132'}, 'itemLabel': {'type': 'literal', 'value': 'Q2272132'}}, {'item': {'type': 'uri', 'value': 'http://www.wikidata.org/entity/Q2312558'}, 'itemLabel': {'type': 'literal', 'value': 'Q2312558'}}, {'item': {'type': 'uri', 'value': 'http://www.wikidata.org/entity/Q2584486'}, 'itemLabel': {'type': 'literal', 'value': 'Q2584486'}}, {'item': {'type': 'uri', 'value': 'http://www.wikidata.org/entity/Q3486282'}, 'itemLabel': {'type': 'literal', 'value': 'Q3486282'}}, {'item': {'type': 'uri', 'value': 'http://www.wikidata.org/entity/Q41478744'}, 'itemLabel': {'type': 'literal', 'value': 'Q41478744'}}, {'item': {'type': 'uri', 'value': 'http://www.wikidata.org/entity/Q18232'}, 'itemLabel': {'type': 'literal', 'value': 'Q18232'}}, {'item': {'type': 'uri', 'value': 'http://www.wikidata.org/entity/Q19585'}, 'itemLabel': {'type': 'literal', 'value': 'Q19585'}}]\n"
     ]
    }
   ],
   "source": [
    "# Retrieve results from SPARQL\n",
    "endpoint = \"https://query.wikidata.org/bigdata/namespace/wdq/sparql\"\n",
    "sparql = SPARQLWrapper(endpoint)\n",
    "\n",
    "# P31 = nature de l'élément\n",
    "# P279 = sous-classe de \n",
    "# Q476028 = club de football\n",
    "# P17 = pays\n",
    "# Q31 = Belgique\n",
    "# P118 = ligue\n",
    "# Q216022 = frisbee (Belgian First Division)\n",
    "statement = \"\"\"\n",
    "SELECT DISTINCT ?item ?itemLabel WHERE {\n",
    "  SERVICE wikibase:label { bd:serviceParam wikibase:language \"[AUTO_LANGUAGE]\". }\n",
    "  {\n",
    "    SELECT DISTINCT ?item WHERE {\n",
    "      ?item p:P31 ?statement0.\n",
    "      ?statement0 (ps:P31/(wdt:P279*)) wd:Q476028.\n",
    "      ?item p:P17 ?statement1.\n",
    "      ?statement1 (ps:P17/(wdt:P279*)) wd:Q31.\n",
    "      ?item p:P118 ?statement2.\n",
    "      ?statement2 (ps:P118/(wdt:P279*)) wd:Q216022.\n",
    "    }\n",
    "    LIMIT 100\n",
    "  }\n",
    "}\n",
    "\"\"\"\n",
    "\n",
    "sparql.setQuery(statement)\n",
    "sparql.setReturnFormat(JSON)\n",
    "results = sparql.query().convert()\n",
    "\n",
    "rows = results['results']['bindings']\n",
    "print(f\"\\n{len(rows)} Belgian Division 1 Football Clubs found\\n\")\n",
    "print(rows[:35])"
   ]
  }
 ],
 "metadata": {
  "kernelspec": {
   "display_name": "Python 3.10.7 ('tac_venv': venv)",
   "language": "python",
   "name": "python3"
  },
  "language_info": {
   "codemirror_mode": {
    "name": "ipython",
    "version": 3
   },
   "file_extension": ".py",
   "mimetype": "text/x-python",
   "name": "python",
   "nbconvert_exporter": "python",
   "pygments_lexer": "ipython3",
   "version": "3.10.7"
  },
  "orig_nbformat": 4,
  "vscode": {
   "interpreter": {
    "hash": "8c0f851c074e63101fa943bb20d529c271884474fc3cda75dc22d6247f049de0"
   }
  }
 },
 "nbformat": 4,
 "nbformat_minor": 2
}
